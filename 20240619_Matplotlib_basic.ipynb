{
 "cells": [
  {
   "cell_type": "code",
   "execution_count": 1,
   "metadata": {},
   "outputs": [],
   "source": [
    "import matplotlib.pyplot as plt\n",
    "import numpy as np"
   ]
  },
  {
   "cell_type": "code",
   "execution_count": null,
   "metadata": {},
   "outputs": [],
   "source": [
    "# y값만 설정하여 기본 그래프 그리기\n",
    "plt.plot([1,2,3,4])\n",
    "plt.show()"
   ]
  },
  {
   "cell_type": "code",
   "execution_count": null,
   "metadata": {},
   "outputs": [],
   "source": [
    "# x, y값 설정하여 기본 그래프 그리기\n",
    "plt.plot([1,2,3,4], [1,4,9,16])\n",
    "plt.show()"
   ]
  },
  {
   "cell_type": "code",
   "execution_count": null,
   "metadata": {},
   "outputs": [],
   "source": [
    "# 스타일 지정하기\n",
    "plt.plot([1,2,3,4], [1,4,9,16], 'ro')  # r = red / o = 원형(o)마커\n",
    "plt.show()"
   ]
  },
  {
   "cell_type": "code",
   "execution_count": null,
   "metadata": {},
   "outputs": [],
   "source": [
    "# 스타일 지정하기\n",
    "plt.plot([1,2,3,4], [1,4,9,16], 'b-')  # b = blue / - = 실선\n",
    "plt.show()"
   ]
  },
  {
   "cell_type": "code",
   "execution_count": null,
   "metadata": {},
   "outputs": [],
   "source": [
    "# 스타일 지정하기\n",
    "plt.plot([1,2,3,4], [1,4,9,16], 'ro')\n",
    "plt.axis([0,6,0,20])  # x축 0~6, y축 0~20\n",
    "plt.show()"
   ]
  },
  {
   "cell_type": "code",
   "execution_count": null,
   "metadata": {},
   "outputs": [],
   "source": [
    "# 그래프 여러개 그리기\n",
    "import numpy as np\n",
    "\n",
    "# 200ms 간격으로 균일하게 샘플된 시간\n",
    "t = np.arange(0., 5., 0.2)\n",
    "\n",
    "# 빨간 대쉬(r--), 파란 사각형(bs), 녹색 삼각형(g^)\n",
    "plt.plot(t, t, 'r--', t, t**2, 'bs', t, t**3, 'g^')\n",
    "plt.show()"
   ]
  },
  {
   "cell_type": "code",
   "execution_count": null,
   "metadata": {},
   "outputs": [],
   "source": [
    "# 숫자 입력하기\n",
    "plt.plot([2, 3, 5, 10])\n",
    "plt.show()"
   ]
  },
  {
   "cell_type": "code",
   "execution_count": null,
   "metadata": {},
   "outputs": [],
   "source": [
    "plt.plot([1,2,3,4], [2,3,5,10])\n",
    "plt.show()"
   ]
  },
  {
   "cell_type": "code",
   "execution_count": null,
   "metadata": {},
   "outputs": [],
   "source": [
    "# 레이블이 있는 데이터\n",
    "data_dict = {'data_x' : [1,2,3,4,5], 'data_y' : [2,3,5,10,8]}\n",
    "\n",
    "plt.plot('data_x', 'data_y', data=data_dict)\n",
    "plt.show()"
   ]
  },
  {
   "cell_type": "code",
   "execution_count": null,
   "metadata": {},
   "outputs": [],
   "source": [
    "plt.plot([1,2,3,4,5], [2,3,5,10,8])\n",
    "plt.show()"
   ]
  },
  {
   "cell_type": "code",
   "execution_count": null,
   "metadata": {},
   "outputs": [],
   "source": [
    "# 축 레이블 설정\n",
    "plt.plot([1,2,3,4], [1,4,9,16])\n",
    "plt.xlabel('X-label')\n",
    "plt.ylabel('Y-label')\n",
    "plt.show()"
   ]
  },
  {
   "cell_type": "code",
   "execution_count": null,
   "metadata": {},
   "outputs": [],
   "source": [
    "# 그래프와 라벨 사이 여백 지정\n",
    "plt.plot([1,2,3,4], [2,3,5,10])\n",
    "plt.xlabel('X-label', labelpad=15)\n",
    "plt.ylabel('Y-label', labelpad=20)\n",
    "plt.show()"
   ]
  },
  {
   "cell_type": "code",
   "execution_count": null,
   "metadata": {},
   "outputs": [],
   "source": [
    "# 라벨 폰트 및 컬러 설정하기\n",
    "\n",
    "plt.plot([1,2,3,4], [2,3,5,10])\n",
    "plt.xlabel('X-Axis', labelpad=15, fontdict={'family' : 'serif', 'color' : 'b', 'weight' : 'bold', 'size' : 14})\n",
    "plt.ylabel('Y-Axis', labelpad=20, fontdict={'family' : 'fantasy', 'color' : 'deeppink', 'weight' : 'normal', 'size' : 'xx-large'})\n",
    "plt.show()"
   ]
  },
  {
   "cell_type": "code",
   "execution_count": null,
   "metadata": {},
   "outputs": [],
   "source": [
    "font1 = {'family' : 'serif',\n",
    "         'color' : 'b',\n",
    "         'weight' : 'bold',\n",
    "         'size' : 14}\n",
    "\n",
    "font2 = {'family' : 'fantasy',\n",
    "         'color' : 'orange',\n",
    "         'weight' : 'normal',\n",
    "         'size' : 'xx-large'}\n",
    "\n",
    "plt.plot([1,2,3,4], [2,3,5,10])\n",
    "plt.xlabel('X-Axis', labelpad=15, fontdict=font1)\n",
    "plt.ylabel('Y-Axis', labelpad=20, fontdict=font2)\n",
    "plt.show()"
   ]
  },
  {
   "cell_type": "code",
   "execution_count": null,
   "metadata": {},
   "outputs": [],
   "source": [
    "# 라벨의 위치 지정하기\n",
    "\n",
    "plt.plot([1,2,3,4], [2,3,5,10])\n",
    "plt.xlabel('X-Axis', loc='right')\n",
    "plt.ylabel('Y-Axis', loc='top')\n",
    "plt.show()"
   ]
  },
  {
   "cell_type": "code",
   "execution_count": null,
   "metadata": {},
   "outputs": [],
   "source": [
    "# 범례 표시하기\n",
    "\n",
    "plt.plot([1,2,3,4], [2,3,5,10], label='Price ($)')\n",
    "plt.xlabel('X-Axis')\n",
    "plt.ylabel('Y-Axis')\n",
    "plt.legend()\n",
    "\n",
    "plt.show()"
   ]
  },
  {
   "cell_type": "code",
   "execution_count": null,
   "metadata": {},
   "outputs": [],
   "source": [
    "# 범례 위치 지정하기\n",
    "\n",
    "plt.plot([1,2,3,4], [2,3,5,10], label='Price ($)')\n",
    "plt.xlabel('X-Axis')\n",
    "plt.ylabel('Y-Axis')\n",
    "# plt.legend(loc=(1.0, 1.0))\n",
    "plt.legend(loc=(0.5, 0.5))\n",
    "\n",
    "plt.show()"
   ]
  },
  {
   "cell_type": "code",
   "execution_count": null,
   "metadata": {},
   "outputs": [],
   "source": [
    "plt.plot([1,2,3,4], [2,3,5,10], label='Price ($)')\n",
    "plt.xlabel('X-Axis')\n",
    "plt.ylabel('Y-Axos')\n",
    "# plt.legend(loc='lower right')\n",
    "# plt.legend(loc='lower left')\n",
    "plt.legend(loc='upper left')\n",
    "\n",
    "plt.show()"
   ]
  },
  {
   "cell_type": "code",
   "execution_count": null,
   "metadata": {},
   "outputs": [],
   "source": [
    "# 범례 열 개수 지정하기\n",
    "\n",
    "plt.plot([1,2,3,4], [2,3,5,10], label='Price ($)')\n",
    "plt.plot([1,2,3,4], [3,5,9,7], label='Demand (#)')\n",
    "plt.xlabel('X-Axis')\n",
    "plt.ylabel('Y-Axis')\n",
    "# plt.legend(loc='best', ncol=2)\n",
    "plt.legend(loc='best')#, ncol=1)\n",
    "\n",
    "plt.show()"
   ]
  },
  {
   "cell_type": "code",
   "execution_count": null,
   "metadata": {},
   "outputs": [],
   "source": [
    "# 범례 폰트크기 지정하기\n",
    "\n",
    "plt.plot([1,2,3,4], [2,3,5,10], label='Price ($)')\n",
    "plt.plot([1,2,3,4], [3,5,9,7], label='Demand (#)')\n",
    "plt.xlabel('X-Axis')\n",
    "plt.ylabel('Y-Axis')\n",
    "# plt.legend(loc='best')\n",
    "plt.legend(loc='best', ncol=2, fontsize=14)\n",
    "\n",
    "plt.show()"
   ]
  },
  {
   "cell_type": "code",
   "execution_count": null,
   "metadata": {},
   "outputs": [],
   "source": [
    "# 범례 테두리 꾸미기\n",
    "\n",
    "plt.plot([1,2,3,4], [2,3,5,1], label='Price ($)')\n",
    "plt.plot([1,2,3,4], [3,5,9,7], label='Demand (#)')\n",
    "plt.xlabel('X-Axis')\n",
    "plt.ylabel('Y-Axis')\n",
    "# plt.legend(loc='best')\n",
    "plt.legend(loc='best', ncol=2, fontsize=14, frameon=True, shadow=True)\n",
    "\n",
    "plt.show()"
   ]
  },
  {
   "cell_type": "markdown",
   "metadata": {},
   "source": [
    "## 축 범위 지정하기"
   ]
  },
  {
   "cell_type": "code",
   "execution_count": null,
   "metadata": {},
   "outputs": [],
   "source": [
    "plt.plot([1,2,3,4], [2,3,5,10])\n",
    "plt.xlabel('X-Axis')\n",
    "plt.ylabel('Y-Axis')\n",
    "plt.xlim([0, 5])  # x축 범위 [xmin, xmax]\n",
    "plt.ylim([0, 15])  # y축 범위 [ymin, ymax]\n",
    "\n",
    "plt.show()"
   ]
  },
  {
   "cell_type": "code",
   "execution_count": null,
   "metadata": {},
   "outputs": [],
   "source": [
    "plt.plot([1,2,3,4], [2,3,5,10])\n",
    "plt.xlabel('X-Axis')\n",
    "plt.ylabel('Y-Axis')\n",
    "plt.axis([0, 5, 0, 15])  # x,y축의 범위 [xmin, xmax, ymin, ymax]\n",
    "\n",
    "plt.show()"
   ]
  },
  {
   "cell_type": "code",
   "execution_count": null,
   "metadata": {},
   "outputs": [],
   "source": [
    "# 옵션 지정\n",
    "\n",
    "plt.plot([1,2,3,4], [2,3,5,10])\n",
    "plt.xlabel('X-Axis')\n",
    "plt.ylabel('Y-Axis')\n",
    "# plt.axis('square')  # x,y축의 모양이 정사각형\n",
    "plt.axis('scaled')  # x,y축이 그래프 값에 맞춰짐\n",
    "# 옵션종류 - 'on', 'off', 'equal', 'scaled', 'tight', 'auto', 'normal', 'image', 'square'\n",
    "\n",
    "plt.show()"
   ]
  },
  {
   "cell_type": "code",
   "execution_count": null,
   "metadata": {},
   "outputs": [],
   "source": [
    "# 축 범위 구하기\n",
    "\n",
    "plt.plot([1,2,3,4], [2,3,5,10])\n",
    "plt.xlabel('X-Axis')\n",
    "plt.ylabel('Y-Axis')\n",
    "\n",
    "x_range, y_range = plt.xlim(), plt.ylim()\n",
    "print(x_range, y_range)"
   ]
  },
  {
   "cell_type": "code",
   "execution_count": null,
   "metadata": {},
   "outputs": [],
   "source": [
    "plt.plot([1,2,3,4], [2,3,5,10])\n",
    "plt.xlabel('X-Axis')\n",
    "plt.ylabel('Y-Axis')\n",
    "\n",
    "axis_range = plt.axis('scaled')\n",
    "print(axis_range)\n",
    "\n",
    "plt.show()"
   ]
  },
  {
   "cell_type": "markdown",
   "metadata": {},
   "source": [
    "## 그래프 선 종류 지정"
   ]
  },
  {
   "cell_type": "code",
   "execution_count": null,
   "metadata": {},
   "outputs": [],
   "source": [
    "# 기호사용\n",
    "plt.plot([1,2,3], [4,4,4], '-', color='C0', label='Solid')\n",
    "plt.plot([1,2,3], [3,3,3], '--', color='C0', label='Dashed')\n",
    "plt.plot([1,2,3], [2,2,2], ':', color='C0', label='Dotted')\n",
    "plt.plot([1,2,3], [1,1,1], '-.', color='C0', label='Dash-Dot')\n",
    "\n",
    "plt.xlabel('X-Axis')\n",
    "plt.ylabel('Y-Axis')\n",
    "\n",
    "plt.axis([0.8, 3.2, 0.5, 5.0])\n",
    "\n",
    "plt.legend(loc='upper right', ncol=4)\n",
    "\n",
    "plt.show()"
   ]
  },
  {
   "cell_type": "code",
   "execution_count": null,
   "metadata": {},
   "outputs": [],
   "source": [
    "# 단어사용\n",
    "plt.plot([1,2,3], [4,4,4], linestyle='solid', color='C0', label='Solid')\n",
    "plt.plot([1,2,3], [3,3,3], linestyle='dashed', color='C0', label='Dashed')\n",
    "plt.plot([1,2,3], [2,2,2], linestyle='dotted', color='C0', label='Dotted')\n",
    "plt.plot([1,2,3], [1,1,1], linestyle='dashdot', color='C0', label='Dash-Dot')\n",
    "\n",
    "plt.xlabel('X-Axis')\n",
    "plt.ylabel('Y-Axis')\n",
    "\n",
    "plt.axis([0.8, 3.2, 0.5, 5.0])\n",
    "\n",
    "plt.legend(loc='upper right', ncol=4)\n",
    "\n",
    "plt.tight_layout()\n",
    "\n",
    "plt.show()"
   ]
  },
  {
   "cell_type": "code",
   "execution_count": null,
   "metadata": {},
   "outputs": [],
   "source": [
    "# 튜플 사용하여 점선 그래프 구현\n",
    "\n",
    "plt.plot([1,2,3], [4,4,4], linestyle=(0, (1,1)), color='C0', label='1,1')\n",
    "plt.plot([1,2,3], [3.5,3.5,3.5], linestyle=(0, (1,2,3,4)), color='C0', label='1,2,3,4')\n",
    "plt.plot([1,2,3], [3,3,3], linestyle=(0, (1, 5)), color='C0', label='1,5')\n",
    "plt.plot([1,2,3], [2,2,2], linestyle=(0, (5,1)), color='C0', label='5,1')\n",
    "plt.plot([1,2,3], [1,1,1], linestyle=(0, (3,5,1,5)), color='C0', label='3,5,1,5')\n",
    "\n",
    "plt.xlabel('X-Axis')\n",
    "plt.ylabel('Y-Axis')\n",
    "\n",
    "plt.axis([0.8, 3.2, 0.5, 5.0])\n",
    "\n",
    "plt.legend(loc='upper right', ncol=2)\n",
    "\n",
    "plt.tight_layout()\n",
    "\n",
    "plt.show()"
   ]
  },
  {
   "cell_type": "code",
   "execution_count": null,
   "metadata": {},
   "outputs": [],
   "source": [
    "# 선 끝 모양 지정\n",
    "# \n",
    "\n",
    "plt.plot([1,2,3], [4,4,4], linestyle='solid', linewidth=10, solid_capstyle='butt', color='C0', label='Solid+butt')\n",
    "plt.plot([1,2,3], [3,3,3], linestyle='solid', linewidth=10, solid_capstyle='round', color='C0', label='Solid+round')\n",
    "plt.plot([1,2,3], [2,2,2], linestyle='dashed', linewidth=10, dash_capstyle='butt', color='C1', label='Dash+butt')\n",
    "plt.plot([1,2,3], [1,1,1], linestyle='dashed', linewidth=10, dash_capstyle='round', color='C1', label='Dash+round')\n",
    "\n",
    "plt.xlabel('X-Axis')\n",
    "plt.ylabel('Y-Axis')\n",
    "\n",
    "plt.axis([0.8, 3.2, 0.5, 5.0])\n",
    "\n",
    "plt.legend(loc='upper right', ncol=2)\n",
    "\n",
    "plt.tight_layout()\n",
    "\n",
    "plt.show()"
   ]
  },
  {
   "cell_type": "markdown",
   "metadata": {},
   "source": [
    "## 마커 지정"
   ]
  },
  {
   "cell_type": "code",
   "execution_count": null,
   "metadata": {},
   "outputs": [],
   "source": [
    "# Blue색상 o모양 마커\n",
    "\n",
    "plt.plot([1,2,3,4], [2,3,5,10], 'bo')\n",
    "\n",
    "plt.xlabel('X-Axis')\n",
    "plt.ylabel('Y-Axis')\n",
    "\n",
    "plt.show()"
   ]
  },
  {
   "cell_type": "code",
   "execution_count": null,
   "metadata": {},
   "outputs": [],
   "source": [
    "# 선과 마커를 동시에\n",
    "# 색상 - b: blue, r: red, g:green, c:cyan, m:magenta, y:yellow, w:white, k:black\n",
    "# 선 - =실선, -- =대쉬, -. =대쉬+점선, : =점선\n",
    "# 마커 \". , o v ^ < > 0 1 2 3 4 8 s p * h H + x D d | _\"  0~11  \"\"\n",
    "\n",
    "plt.plot([1,2,3,4], [2,3,5,10], 'bo-')  # 파랑+o마커+실선\n",
    "plt.plot([1,2,3,4], [3,5,7,10], 'k^--')  # 빨강+^마커+점선\n",
    "\n",
    "plt.xlabel('X-Axis')\n",
    "plt.ylabel('Y-Axis')\n",
    "\n",
    "plt.show()"
   ]
  },
  {
   "cell_type": "code",
   "execution_count": null,
   "metadata": {},
   "outputs": [],
   "source": [
    "# marker 파라미터\n",
    "\n",
    "plt.plot([4,5,6], marker='H')\n",
    "plt.plot([3,4,5], marker='d')\n",
    "plt.plot([2,3,4], marker='x')\n",
    "plt.plot([1,2,3], marker=11)\n",
    "plt.plot([0,1,2], marker='$Z$')\n",
    "\n",
    "plt.show()"
   ]
  },
  {
   "cell_type": "markdown",
   "metadata": {},
   "source": [
    "## 색 지정"
   ]
  },
  {
   "cell_type": "code",
   "execution_count": null,
   "metadata": {},
   "outputs": [],
   "source": [
    "# 컬러 약자 사용\n",
    "plt.plot([1,2,3,4], [2.0, 3.0, 5.0, 10.0], 'r')\n",
    "plt.plot([1,2,3,4], [2.0, 2.8, 4.3, 6.5], 'g')\n",
    "plt.plot([1,2,3,4], [2.0, 2.5, 3.3, 4.5], 'b')\n",
    "\n",
    "plt.xlabel('X-Axis')\n",
    "plt.ylabel('Y-Axis')\n",
    "\n",
    "plt.show()"
   ]
  },
  {
   "cell_type": "code",
   "execution_count": null,
   "metadata": {},
   "outputs": [],
   "source": [
    "# color 인자 사용\n",
    "# Hex code 제외하고 color 생략가능\n",
    "\n",
    "plt.plot([1,2,3,4], [2.0, 3.0, 5.0, 10.0], color='limegreen')\n",
    "plt.plot([1,2,3,4], [2.0, 2.8, 4.3, 6.5], color='violet')\n",
    "plt.plot([1,2,3,4], [2.0, 2.5, 3.3, 4.5], color='dodgerblue')\n",
    "\n",
    "plt.xlabel('X-Axis')\n",
    "plt.ylabel('Y-Axis')\n",
    "\n",
    "plt.tight_layout()\n",
    "plt.show()"
   ]
  },
  {
   "cell_type": "code",
   "execution_count": null,
   "metadata": {},
   "outputs": [],
   "source": [
    "# Hex code 사용\n",
    "\n",
    "plt.plot([1,2,3,4], [2,3,5,10], color='#e35f62', linestyle='--', marker='o')\n",
    "\n",
    "plt.xlabel('X-Axis')\n",
    "plt.ylabel('Y-Axis')\n",
    "\n",
    "plt.tight_layout()\n",
    "plt.show()"
   ]
  },
  {
   "cell_type": "code",
   "execution_count": null,
   "metadata": {},
   "outputs": [],
   "source": [
    "# Tableau 색상 사용\n",
    "\n",
    "plt.plot([1,2,3,4], [2,3,5,10], color='tab:orange', linestyle='--', marker='o')\n",
    "\n",
    "plt.xlabel('X-Axis')\n",
    "plt.ylabel('Y-Axis')\n",
    "\n",
    "plt.tight_layout()\n",
    "plt.show()"
   ]
  },
  {
   "cell_type": "markdown",
   "metadata": {},
   "source": [
    "## 그래프 영역 채우기"
   ]
  },
  {
   "cell_type": "code",
   "execution_count": null,
   "metadata": {},
   "outputs": [],
   "source": [
    "# fill_between() - 두 수평 방향의 곡선 사이 채우기\n",
    "# fill_betweenx() - 두 수직 방향의 곡선 사이 채우기\n",
    "# fill() - 다각형 영역을 채우기"
   ]
  },
  {
   "cell_type": "code",
   "execution_count": null,
   "metadata": {},
   "outputs": [],
   "source": [
    "# fill_between() - 두 수평 방향의 곡선 사이 채우기\n",
    "x = [1,2,3,4]\n",
    "y = [2,3,5,10]\n",
    "\n",
    "plt.plot(x, y)  # 기본 선 그래프\n",
    "plt.xlabel('X-axis')\n",
    "plt.ylabel('Y-axis')\n",
    "plt.fill_between(x[1:3], y[1:3], alpha=0.1)  #alpha = 0~1 투명도\n",
    "\n",
    "plt.show()"
   ]
  },
  {
   "cell_type": "code",
   "execution_count": null,
   "metadata": {},
   "outputs": [],
   "source": [
    "# fill_betweenx() - 두 수직 방향의 곡선 사이 채우기\n",
    "\n",
    "x = [1,2,3,4]\n",
    "y = [2,3,5,10]\n",
    "\n",
    "plt.plot(x, y)  # 기본 선 그래프\n",
    "plt.xlabel('X-axis')\n",
    "plt.ylabel('Y-axis')\n",
    "plt.fill_betweenx(y[2:4], x[2:4], alpha=0.2)  #alpha = 0~1 투명도\n",
    "\n",
    "plt.show()"
   ]
  },
  {
   "cell_type": "code",
   "execution_count": null,
   "metadata": {},
   "outputs": [],
   "source": [
    "x = [1, 2, 3, 4]\n",
    "y = [2, 3, 5, 10]\n",
    "\n",
    "# 첫 번째 경우: y축 기준으로 채우기\n",
    "plt.figure()\n",
    "plt.plot(x, y, label='Line')  # 기본 선 그래프\n",
    "plt.xlabel('X-axis')\n",
    "plt.ylabel('Y-axis')\n",
    "plt.fill_betweenx(y[2:4], x[2:4], alpha=0.2, color='blue', label='Fill y[2:4], x[2:4]')\n",
    "plt.legend()\n",
    "plt.title('Fill Between Y[2:4] and X[2:4]')\n",
    "plt.show()\n",
    "\n",
    "# 두 번째 경우: x축 기준으로 채우기\n",
    "plt.figure()\n",
    "plt.plot(x, y, label='Line')  # 기본 선 그래프\n",
    "plt.xlabel('X-axis')\n",
    "plt.ylabel('Y-axis')\n",
    "plt.fill_between(x[2:4], y[2:4], alpha=0.2, color='green', label='Fill x[2:4], y[2:4]')\n",
    "plt.legend()\n",
    "plt.title('Fill Between X[2:4] and Y[2:4]')\n",
    "plt.show()"
   ]
  },
  {
   "cell_type": "code",
   "execution_count": null,
   "metadata": {},
   "outputs": [],
   "source": [
    "# 두 그래프 사이 영역 채우기\n",
    "\n",
    "x = [1,2,3,4]\n",
    "y1 = [2,3,5,10]\n",
    "y2 = [1,2,4,8]\n",
    "\n",
    "plt.plot(x, y1)\n",
    "plt.plot(x, y2)\n",
    "plt.xlabel('X-axis')\n",
    "plt.ylabel('Y-axis')\n",
    "plt.fill_between(x[1:3], y1[1:3], y2[1:3], color='lightgray', alpha=0.3)\n",
    "\n",
    "plt.show()"
   ]
  },
  {
   "cell_type": "code",
   "execution_count": null,
   "metadata": {},
   "outputs": [],
   "source": [
    "# 다각형 영역 채우기 -fill()\n",
    "\n",
    "x = [1, 2, 3, 4]\n",
    "y1 = [2, 3, 5, 10]\n",
    "y2 = [1, 2, 4, 8]\n",
    "\n",
    "plt.plot(x, y1)\n",
    "plt.plot(x, y2)\n",
    "plt.xlabel('X-axis')\n",
    "plt.ylabel('Y-axis')\n",
    "plt.fill([1.9, 1.9, 3.1, 3.1], [1.0, 4.0, 6.0, 3.0], color='lightgray', alpha=0.4)\n",
    "\n",
    "plt.show()"
   ]
  },
  {
   "cell_type": "markdown",
   "metadata": {},
   "source": [
    "## 축 스케일 지정하기"
   ]
  },
  {
   "cell_type": "code",
   "execution_count": null,
   "metadata": {},
   "outputs": [],
   "source": [
    "# plt.xscale()\n",
    "# plt.yscale()\n",
    "# axis scale\n",
    "# linear\n",
    "# log"
   ]
  },
  {
   "cell_type": "code",
   "execution_count": null,
   "metadata": {},
   "outputs": [],
   "source": [
    "# 축 스케일 지정하기 - X축 스케일\n",
    "\n",
    "x= np.linspace(-10, 10, 100)\n",
    "y = x ** 3\n",
    "\n",
    "plt.plot(x, y)\n",
    "plt.xscale('symlog')  #symlog = Symmetrical Log Scale\n",
    "\n",
    "plt.show()"
   ]
  },
  {
   "cell_type": "code",
   "execution_count": null,
   "metadata": {},
   "outputs": [],
   "source": [
    "# 스케일 지정하기 - Y축 스케일\n",
    "\n",
    "x = np.linspace(0, 5, 100)\n",
    "y = np.exp(x)\n",
    "\n",
    "plt.plot(x, y)\n",
    "plt.yscale('linear')\n",
    "\n",
    "plt.show()"
   ]
  },
  {
   "cell_type": "code",
   "execution_count": null,
   "metadata": {},
   "outputs": [],
   "source": [
    "# 스케일 지정하기 - Y축 스케일\n",
    "\n",
    "x = np.linspace(0, 5, 100)\n",
    "y = np.exp(x)\n",
    "\n",
    "plt.plot(x, y)\n",
    "plt. yscale('log')\n",
    "\n",
    "plt.show()"
   ]
  },
  {
   "cell_type": "markdown",
   "metadata": {},
   "source": [
    "## 여러 곡선 그리기"
   ]
  },
  {
   "cell_type": "code",
   "execution_count": null,
   "metadata": {},
   "outputs": [],
   "source": [
    "# plt.plot(x, y1, 'r--', x, y2, 'bo', x, y3, 'g-.')\n",
    "# 1 curve (x, y1, 'r--') red dash\n",
    "# 2 curve (x, y2, 'bo') blue o marker\n",
    "# 3 curve (x, y3, 'g-.') green dash-dot"
   ]
  },
  {
   "cell_type": "code",
   "execution_count": null,
   "metadata": {},
   "outputs": [],
   "source": [
    "# 스타일 지정하기\n",
    "\n",
    "x = np.arange(0, 2, 0.2)\n",
    "\n",
    "plt.plot(x, x, 'bo')  # blue o marker\n",
    "plt.plot(x, x**2, color='#e35f62', marker='*', linewidth=2)  # red * marker\n",
    "plt.plot(x, x**3, color='forestgreen', marker='^', markersize=9)  # green ^ marker\n",
    "plt.show()"
   ]
  },
  {
   "cell_type": "markdown",
   "metadata": {},
   "source": [
    "## 그리드 설정"
   ]
  },
  {
   "cell_type": "code",
   "execution_count": null,
   "metadata": {},
   "outputs": [],
   "source": [
    "# plt.grid(True, axis='both/y/x')"
   ]
  },
  {
   "cell_type": "code",
   "execution_count": null,
   "metadata": {},
   "outputs": [],
   "source": [
    "# 그리드 사각으로 그리기\n",
    "\n",
    "x = np.arange(0, 2, 0.2)\n",
    "\n",
    "plt.plot(x, x, 'bo')\n",
    "plt.plot(x, x**2, color='#e35f62', marker='*', linewidth=2)\n",
    "plt.plot(x, x**3, color='springgreen', marker='^', markersize=9)\n",
    "\n",
    "plt.grid(True)\n",
    "\n",
    "plt.show()"
   ]
  },
  {
   "cell_type": "code",
   "execution_count": null,
   "metadata": {},
   "outputs": [],
   "source": [
    "# 그리드 가로로 그리기\n",
    "\n",
    "x = np.arange(0, 2, 0.2)\n",
    "\n",
    "plt.plot(x, x, 'bo')\n",
    "plt.plot(x, x**2, color='#e35f62', marker='*', linewidth=2)\n",
    "plt.plot(x, x**3, color='forestgreen', marker='^', markersize=9)\n",
    "\n",
    "plt.grid(True, axis='y')\n",
    "\n",
    "plt.show()"
   ]
  },
  {
   "cell_type": "code",
   "execution_count": null,
   "metadata": {},
   "outputs": [],
   "source": [
    "# 그리드 세로로 그리기\n",
    "\n",
    "x = np.arange(0, 2, 0.2)\n",
    "\n",
    "plt.plot(x, x, 'bo')\n",
    "plt.plot(x, x**2, color='#e35f62', marker='*', linewidth=2)\n",
    "plt.plot(x, x**3, color='forestgreen', marker='^', markersize=9)\n",
    "\n",
    "plt.grid(True, axis='x')\n",
    "\n",
    "plt.show()"
   ]
  },
  {
   "cell_type": "code",
   "execution_count": null,
   "metadata": {},
   "outputs": [],
   "source": [
    "# 그리드 사각으로 그리기\n",
    "\n",
    "x = np.arange(0, 2, 0.2)\n",
    "\n",
    "plt.plot(x, x, 'bo')\n",
    "plt.plot(x, x**2, color='#e35f62', marker='*', linewidth=2)\n",
    "plt.plot(x, x**3, color='forestgreen', marker='^', markersize=9)\n",
    "\n",
    "plt.grid(True, axis='both')\n",
    "\n",
    "plt.show()"
   ]
  },
  {
   "cell_type": "code",
   "execution_count": null,
   "metadata": {},
   "outputs": [],
   "source": [
    "# 그리드에 스타일 설정\n",
    "\n",
    "x = np.arange(0, 2, 0.2)\n",
    "\n",
    "plt.plot(x, x, 'bo')\n",
    "plt.plot(x, x**2, color='#e35f62', marker='*', linewidth=2)\n",
    "plt.plot(x, x**3, color='springgreen', marker='^', markersize=9)\n",
    "\n",
    "plt.grid(True, axis='y', color='red', alpha=0.5, linestyle='--')\n",
    "\n",
    "plt.show()"
   ]
  },
  {
   "cell_type": "markdown",
   "metadata": {},
   "source": [
    "## 눈금 표시하기"
   ]
  },
  {
   "cell_type": "code",
   "execution_count": null,
   "metadata": {},
   "outputs": [],
   "source": [
    "# plt.xticks()\n",
    "# plt.yticks()\n",
    "# plt.tick_params()"
   ]
  },
  {
   "cell_type": "code",
   "execution_count": null,
   "metadata": {},
   "outputs": [],
   "source": [
    "x = np.arange(0, 2, 0.2)\n",
    "\n",
    "plt.plot(x, x, 'bo')\n",
    "plt.plot(x, x**2, color='#e35f62', marker='*', linewidth=2)\n",
    "plt.plot(x, x**3, color='forestgreen', marker='^', markersize=9)\n",
    "\n",
    "plt.xticks([0,1,2])\n",
    "plt.yticks(np.arange(1,6))\n",
    "\n",
    "plt.show()"
   ]
  },
  {
   "cell_type": "code",
   "execution_count": null,
   "metadata": {},
   "outputs": [],
   "source": [
    "# 눈금 레이블 지정\n",
    "\n",
    "x = np.arange(0, 2, 0.2)\n",
    "\n",
    "plt.plot(x, x, 'bo')\n",
    "plt.plot(x, x**2, color='#e35f62', marker='*', linewidth=2)\n",
    "plt.plot(x, x**3, color='springgreen', marker='^', markersize=5)\n",
    "\n",
    "plt.xticks(np.arange(0, 2, 0.2), labels=['Jan', '', 'Feb', '', 'Mar', '', 'May', '', 'June', ''])\n",
    "plt.yticks(np.arange(0, 7), ('0', '1GB', '2GB', '3GB', '4GB', '5GB', '6GB'))\n",
    "\n",
    "plt.show()"
   ]
  },
  {
   "cell_type": "code",
   "execution_count": null,
   "metadata": {},
   "outputs": [],
   "source": [
    "# 눈금 스타일 설정\n",
    "# direction='in/out/inout' 눈금이 라인 '안/밖/양쪽'에 표시\n",
    "\n",
    "\n",
    "x = np.arange(0, 2, 0.2)\n",
    "\n",
    "plt.plot(x, x, 'bo')\n",
    "plt.plot(x, x**2, color='#e35f62', marker='*', linewidth=2)\n",
    "plt.plot(x, x**3, color='springgreen', marker='^', markersize=9)\n",
    "\n",
    "plt.xticks(np.arange(0, 2, 0.2), labels=['Jan', '', 'Feb', '', 'Mar', '', 'May', '', 'June', ''])\n",
    "plt.yticks(np.arange(0, 7), ('0', '1GB', '2GB', '3GB', '4GB', '5GB', '6GB'))\n",
    "plt.tick_params(axis='x', direction='out', length=3, pad=6, labelsize=14, labelcolor='green', top=True)\n",
    "plt.tick_params(axis='y', direction='inout', length=10, pad=15, labelsize=12, width=2, color='r')\n",
    "\n",
    "plt.show()"
   ]
  },
  {
   "cell_type": "markdown",
   "metadata": {},
   "source": [
    "## 타이틀 설정"
   ]
  },
  {
   "cell_type": "code",
   "execution_count": null,
   "metadata": {},
   "outputs": [],
   "source": [
    "# plt.title('그래프타이틀)"
   ]
  },
  {
   "cell_type": "code",
   "execution_count": null,
   "metadata": {},
   "outputs": [],
   "source": [
    "x = np.arange(0, 2, 0.2)\n",
    "\n",
    "plt.plot(x, x, 'bo')\n",
    "plt.plot(x, x**2, color='#e35f62', marker='*', linewidth=2)\n",
    "plt.plot(x, x**3, color='forestgreen', marker='^', markersize=9)\n",
    "\n",
    "plt.tick_params(axis='both', direction='in', length=5, pad=10, labelsize=10)\n",
    "plt.title('Graph Title')\n",
    "\n",
    "plt.show()"
   ]
  },
  {
   "cell_type": "code",
   "execution_count": null,
   "metadata": {},
   "outputs": [],
   "source": [
    "# 타이틀 위치와 오프셋 지정\n",
    "\n",
    "x = np.arange(0, 2, 0.2)\n",
    "\n",
    "plt.plot(x, x, 'bo')\n",
    "plt.plot(x, x**2, color='#e35f62', marker='*', linewidth=2)\n",
    "plt.plot(x, x**3, color='forestgreen', marker='^', markersize=5)\n",
    "\n",
    "plt.tick_params(axis='both', direction='inout', length=10, pad=5, labelsize=10)\n",
    "plt.title('Graph Title', loc='left', pad=10)\n",
    "\n",
    "plt.show()"
   ]
  },
  {
   "cell_type": "code",
   "execution_count": null,
   "metadata": {},
   "outputs": [],
   "source": [
    "# 폰트 지정\n",
    "# 사용가능한 fontweight = 'normal', 'bold', 'heavy', 'light', 'ultrabold'\n",
    "\n",
    "x = np.arange(0, 2, 0.2)\n",
    "\n",
    "plt.plot(x, x, 'bo')\n",
    "plt.plot(x, x**2, color='#e35f15', marker='*', linewidth=2)\n",
    "plt.plot(x, x**3, color='forestgreen', marker='1', markersize=8)\n",
    "\n",
    "plt.tick_params(axis='both', direction='out', length=5, pad=5, labelsize=10)\n",
    "plt.title('Graph Title', loc='right', pad=10)\n",
    "\n",
    "title_font = {'fontsize' : 16, 'fontweight' : 'bold'}\n",
    "plt.title('Graph Title', fontdict=title_font, loc='left', pad=10)\n",
    "\n",
    "plt.show()"
   ]
  },
  {
   "cell_type": "code",
   "execution_count": null,
   "metadata": {},
   "outputs": [],
   "source": [
    "# 타이틀 얻기\n",
    "\n",
    "x = np.arange(0, 2, 0.1)\n",
    "\n",
    "plt.plot(x, x, 'ro')\n",
    "plt.plot(x, x**2, color='#000', marker='x', linewidth=2)\n",
    "plt.plot(x, x**3, color='purple', marker='+', markersize=6)\n",
    "\n",
    "plt.tick_params(axis='both', direction='in', length=5, pad=5, labelsize=10)\n",
    "\n",
    "title_right = plt.title('Graph Title(R)', loc='center', pad=10)\n",
    "\n",
    "title_font = {'fontsize' : 16, 'fontweight' : 'heavy'}\n",
    "title_left = plt.title('Graph Title(L)', fontdict=title_font, loc='left', pad=10)\n",
    "\n",
    "print(title_right.get_text())\n",
    "print(\"Right:\", title_right.get_position())\n",
    "\n",
    "print(title_left.get_text())\n",
    "print(title_left.get_position())\n",
    "\n",
    "plt.show()"
   ]
  },
  {
   "cell_type": "markdown",
   "metadata": {},
   "source": [
    "## 수평선/수직선 표시"
   ]
  },
  {
   "cell_type": "code",
   "execution_count": null,
   "metadata": {},
   "outputs": [],
   "source": [
    "# axhline() : 축을 따라 수평선을 표시\n",
    "# axvline() : 축을 따라 수직선을 표시\n"
   ]
  }
 ],
 "metadata": {
  "kernelspec": {
   "display_name": "base",
   "language": "python",
   "name": "python3"
  },
  "language_info": {
   "codemirror_mode": {
    "name": "ipython",
    "version": 3
   },
   "file_extension": ".py",
   "mimetype": "text/x-python",
   "name": "python",
   "nbconvert_exporter": "python",
   "pygments_lexer": "ipython3",
   "version": "3.7.16"
  }
 },
 "nbformat": 4,
 "nbformat_minor": 2
}
